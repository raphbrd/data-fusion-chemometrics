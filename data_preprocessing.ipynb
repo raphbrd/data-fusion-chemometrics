{
 "cells": [
  {
   "cell_type": "code",
   "execution_count": 2,
   "id": "cddf2708",
   "metadata": {},
   "outputs": [],
   "source": [
    "import numpy as np\n",
    "import pandas as pd\n",
    "import matplotlib.pyplot as plt\n",
    "import seaborn as sns\n",
    "import scipy.io as sio\n",
    "from scipy import signal, stats\n",
    "\n",
    "import tensorly as tl\n",
    "\n",
    "concentrations = pd.read_table(\"../Acar_data/concentrations.txt\", sep=\"\\s+\")\n",
    "mat = sio.loadmat(\"../Acar_data/EEM_NMR_LCMS.mat\")"
   ]
  },
  {
   "cell_type": "markdown",
   "id": "bbcf6522",
   "metadata": {},
   "source": [
    "# Data description"
   ]
  },
  {
   "cell_type": "markdown",
   "id": "41a6b3ac",
   "metadata": {},
   "source": [
    "# Mixture concentrations"
   ]
  },
  {
   "cell_type": "code",
   "execution_count": null,
   "id": "19d4f480",
   "metadata": {},
   "outputs": [],
   "source": [
    "print(concentrations.shape)\n",
    "print((concentrations != 0).sum(axis=1).describe())"
   ]
  },
  {
   "cell_type": "markdown",
   "id": "280f4a3f",
   "metadata": {},
   "source": [
    "## Fluorescence Spectroscopy (Excitation Emission Matrix - EEM)\n",
    "\n",
    "- 28 mixtures\n",
    "- emission wavelength (mode 2)\n",
    "- excitation wavelength (mode 3)"
   ]
  },
  {
   "cell_type": "code",
   "execution_count": 35,
   "id": "e57ac3ce",
   "metadata": {},
   "outputs": [
    {
     "name": "stdout",
     "output_type": "stream",
     "text": [
      "(28, 251, 21)\n"
     ]
    }
   ],
   "source": [
    "eem = mat[\"X\"][0][0][\"data\"]\n",
    "\n",
    "print(eem.shape)"
   ]
  },
  {
   "cell_type": "markdown",
   "id": "ff12a48e",
   "metadata": {},
   "source": [
    "## NMR spectra\n",
    "- 28 mixtures\n",
    "- chemical shifts (mode 2)\n",
    "- gradient levels (mode 3)"
   ]
  },
  {
   "cell_type": "code",
   "execution_count": 4,
   "id": "88dade7e",
   "metadata": {},
   "outputs": [
    {
     "name": "stdout",
     "output_type": "stream",
     "text": [
      "(28, 13324, 8)\n"
     ]
    }
   ],
   "source": [
    "nmr = mat[\"Y\"][0][0][\"data\"]\n",
    "print(nmr.shape)"
   ]
  },
  {
   "cell_type": "markdown",
   "id": "8e7bc173",
   "metadata": {},
   "source": [
    "## LC-MS\n",
    "\n",
    "Matrix n_mixtures x n_features"
   ]
  },
  {
   "cell_type": "code",
   "execution_count": 34,
   "id": "838f55e7",
   "metadata": {},
   "outputs": [
    {
     "name": "stdout",
     "output_type": "stream",
     "text": [
      "(28, 168)\n"
     ]
    }
   ],
   "source": [
    "lcms = mat[\"Z\"][0][0][\"data\"]\n",
    "\n",
    "print(lcms.shape)"
   ]
  },
  {
   "cell_type": "markdown",
   "id": "6a10a538",
   "metadata": {},
   "source": [
    "# Tensor decomposition"
   ]
  },
  {
   "cell_type": "code",
   "execution_count": 5,
   "id": "7e8b386a",
   "metadata": {},
   "outputs": [],
   "source": [
    "ranks = range(1, 5)\n",
    "errors = []\n",
    "for rank in ranks:\n",
    "    fac = tl.decomposition.parafac(nmr, rank=rank)\n",
    "    err = tl.norm(tl.cp_to_tensor(fac) - nmr)\n",
    "    errors.append(err)\n",
    "errors = np.array(errors)"
   ]
  },
  {
   "cell_type": "code",
   "execution_count": 7,
   "id": "1fa6afc0",
   "metadata": {},
   "outputs": [
    {
     "data": {
      "text/plain": [
       "(28, 13324, 8)"
      ]
     },
     "execution_count": 7,
     "metadata": {},
     "output_type": "execute_result"
    }
   ],
   "source": [
    "tl.cp_normalize(fac).shape"
   ]
  },
  {
   "cell_type": "code",
   "execution_count": 6,
   "id": "5d952ba5",
   "metadata": {},
   "outputs": [
    {
     "data": {
      "text/plain": [
       "[<matplotlib.lines.Line2D at 0x30881f350>]"
      ]
     },
     "execution_count": 6,
     "metadata": {},
     "output_type": "execute_result"
    },
    {
     "data": {
      "image/png": "[encoded data removed]",
      "text/plain": [
       "<Figure size 640x480 with 1 Axes>"
      ]
     },
     "metadata": {},
     "output_type": "display_data"
    }
   ],
   "source": [
    "plt.plot(ranks, errors)"
   ]
  },
  {
   "cell_type": "code",
   "execution_count": 8,
   "id": "d7a85114",
   "metadata": {},
   "outputs": [],
   "source": [
    "fac = tl.decomposition.parafac(nmr, rank=5)"
   ]
  },
  {
   "cell_type": "code",
   "execution_count": 31,
   "id": "6e8cb235",
   "metadata": {},
   "outputs": [
    {
     "data": {
      "text/plain": [
       "array([ 4.92424847,  4.96131763,  5.59500258,  4.57738932,  5.0000394 ,\n",
       "       10.77521404,  8.94934433,  7.80507425, 11.49268384, 11.27509594,\n",
       "        9.29045889, 10.72065259, 10.9893765 , 11.22704515,  6.44270741,\n",
       "       10.18194881, 11.1929902 ,  7.06053594,  8.71759692,  4.66166814,\n",
       "        7.7861479 , 10.85999792,  7.89516006,  7.22191643,  2.92751168,\n",
       "       10.65233541,  9.86767927,  8.02394909])"
      ]
     },
     "execution_count": 31,
     "metadata": {},
     "output_type": "execute_result"
    }
   ],
   "source": [
    "((tl.cp_normalize(fac).factors[0] - concentrations.values)**2).mean(1)"
   ]
  }
 ],
 "metadata": {
  "kernelspec": {
   "display_name": "deep",
   "language": "python",
   "name": "python3"
  },
  "language_info": {
   "codemirror_mode": {
    "name": "ipython",
    "version": 3
   },
   "file_extension": ".py",
   "mimetype": "text/x-python",
   "name": "python",
   "nbconvert_exporter": "python",
   "pygments_lexer": "ipython3",
   "version": "3.11.8"
  }
 },
 "nbformat": 4,
 "nbformat_minor": 5
}
